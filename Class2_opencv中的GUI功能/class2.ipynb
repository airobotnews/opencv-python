{
 "cells": [
  {
   "cell_type": "code",
   "execution_count": 1,
   "metadata": {},
   "outputs": [],
   "source": [
    "import cv2 as cv\n",
    "import sys\n",
    "img=cv.imread(cv.samples.findFile(\"starry_night.jpg\"))\n",
    "\n",
    "if img is None:\n",
    "    sys.exit(\"Could not read the image.\")\n",
    "\n",
    "cv.imshow(\"Display window\",img)\n",
    "k=cv.waitKey(0)\n",
    "\n",
    "if k== ord(\"s\"):\n",
    "    cv.imwrite(\"starry_night.png\",img)\n"
   ]
  },
  {
   "cell_type": "code",
   "execution_count": null,
   "metadata": {},
   "outputs": [],
   "source": [
    "import unmpy as np\n",
    "import cv2 as cv\n",
    "\n",
    "cap=cv.VideoCapture(0)\n",
    "if not cap.isOpend():\n",
    "    print(\"Can not open camera\")\n",
    "    exit()\n",
    "\n",
    "while True:\n",
    "    ret,frame=cap.read()\n",
    "    if not ret:\n",
    "        print(\"Can't recevie frame (stream end?). Exiting...\")\n",
    "        break\n",
    "    gray=cv.cvtColor(frame,cv_COLOR_BGR2GRAY)\n",
    "    cv.imshow('frame',gray)\n",
    "    if cv.waitKey(1)==ord('q')\n",
    "        break\n",
    "\n",
    "cap.release()\n",
    "cv.destroyAllWindows()\n"
   ]
  }
 ],
 "metadata": {
  "kernelspec": {
   "display_name": "Python 3.10.4 64-bit",
   "language": "python",
   "name": "python3"
  },
  "language_info": {
   "codemirror_mode": {
    "name": "ipython",
    "version": 3
   },
   "file_extension": ".py",
   "mimetype": "text/x-python",
   "name": "python",
   "nbconvert_exporter": "python",
   "pygments_lexer": "ipython3",
   "version": "3.10.4"
  },
  "orig_nbformat": 4,
  "vscode": {
   "interpreter": {
    "hash": "3196968d684371006099b3d55edeef8ed90365227a30deaef86e5d4aa8519be0"
   }
  }
 },
 "nbformat": 4,
 "nbformat_minor": 2
}
